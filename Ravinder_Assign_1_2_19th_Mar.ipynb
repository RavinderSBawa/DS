{
 "cells": [
  {
   "cell_type": "markdown",
   "metadata": {
    "colab_type": "text",
    "id": "40kdL9v47RS7"
   },
   "source": [
    "# **Assignment**"
   ]
  },
  {
   "cell_type": "markdown",
   "metadata": {
    "colab_type": "text",
    "id": "UC-JOLsz6Z8X"
   },
   "source": [
    "**Question1 - Import pandas, matplotlib and numpy libraries and load titanic (titanic.csv) data set as ‘Titanic’.**"
   ]
  },
  {
   "cell_type": "code",
   "execution_count": 3,
   "metadata": {
    "colab": {
     "base_uri": "https://localhost:8080/",
     "height": 204
    },
    "colab_type": "code",
    "id": "_tx2AxWgEhYu",
    "outputId": "3aeed52d-5d76-4c57-bb9a-cdbdd21a20ff"
   },
   "outputs": [
    {
     "data": {
      "text/html": [
       "<div>\n",
       "<style scoped>\n",
       "    .dataframe tbody tr th:only-of-type {\n",
       "        vertical-align: middle;\n",
       "    }\n",
       "\n",
       "    .dataframe tbody tr th {\n",
       "        vertical-align: top;\n",
       "    }\n",
       "\n",
       "    .dataframe thead th {\n",
       "        text-align: right;\n",
       "    }\n",
       "</style>\n",
       "<table border=\"1\" class=\"dataframe\">\n",
       "  <thead>\n",
       "    <tr style=\"text-align: right;\">\n",
       "      <th></th>\n",
       "      <th>PassengerId</th>\n",
       "      <th>Survived</th>\n",
       "      <th>Pclass</th>\n",
       "      <th>Name</th>\n",
       "      <th>Sex</th>\n",
       "      <th>Age</th>\n",
       "      <th>SibSp</th>\n",
       "      <th>Parch</th>\n",
       "      <th>Ticket</th>\n",
       "      <th>Fare</th>\n",
       "      <th>Cabin</th>\n",
       "      <th>Embarked</th>\n",
       "    </tr>\n",
       "  </thead>\n",
       "  <tbody>\n",
       "    <tr>\n",
       "      <th>0</th>\n",
       "      <td>1</td>\n",
       "      <td>0</td>\n",
       "      <td>3</td>\n",
       "      <td>Braund, Mr. Owen Harris</td>\n",
       "      <td>male</td>\n",
       "      <td>22.0</td>\n",
       "      <td>1</td>\n",
       "      <td>0</td>\n",
       "      <td>A/5 21171</td>\n",
       "      <td>7.2500</td>\n",
       "      <td>NaN</td>\n",
       "      <td>S</td>\n",
       "    </tr>\n",
       "    <tr>\n",
       "      <th>1</th>\n",
       "      <td>2</td>\n",
       "      <td>1</td>\n",
       "      <td>1</td>\n",
       "      <td>Cumings, Mrs. John Bradley (Florence Briggs Th...</td>\n",
       "      <td>female</td>\n",
       "      <td>38.0</td>\n",
       "      <td>1</td>\n",
       "      <td>0</td>\n",
       "      <td>PC 17599</td>\n",
       "      <td>71.2833</td>\n",
       "      <td>C85</td>\n",
       "      <td>C</td>\n",
       "    </tr>\n",
       "    <tr>\n",
       "      <th>2</th>\n",
       "      <td>3</td>\n",
       "      <td>1</td>\n",
       "      <td>3</td>\n",
       "      <td>Heikkinen, Miss. Laina</td>\n",
       "      <td>female</td>\n",
       "      <td>26.0</td>\n",
       "      <td>0</td>\n",
       "      <td>0</td>\n",
       "      <td>STON/O2. 3101282</td>\n",
       "      <td>7.9250</td>\n",
       "      <td>NaN</td>\n",
       "      <td>S</td>\n",
       "    </tr>\n",
       "    <tr>\n",
       "      <th>3</th>\n",
       "      <td>4</td>\n",
       "      <td>1</td>\n",
       "      <td>1</td>\n",
       "      <td>Futrelle, Mrs. Jacques Heath (Lily May Peel)</td>\n",
       "      <td>female</td>\n",
       "      <td>35.0</td>\n",
       "      <td>1</td>\n",
       "      <td>0</td>\n",
       "      <td>113803</td>\n",
       "      <td>53.1000</td>\n",
       "      <td>C123</td>\n",
       "      <td>S</td>\n",
       "    </tr>\n",
       "    <tr>\n",
       "      <th>4</th>\n",
       "      <td>5</td>\n",
       "      <td>0</td>\n",
       "      <td>3</td>\n",
       "      <td>Allen, Mr. William Henry</td>\n",
       "      <td>male</td>\n",
       "      <td>35.0</td>\n",
       "      <td>0</td>\n",
       "      <td>0</td>\n",
       "      <td>373450</td>\n",
       "      <td>8.0500</td>\n",
       "      <td>NaN</td>\n",
       "      <td>S</td>\n",
       "    </tr>\n",
       "  </tbody>\n",
       "</table>\n",
       "</div>"
      ],
      "text/plain": [
       "   PassengerId  Survived  Pclass  \\\n",
       "0            1         0       3   \n",
       "1            2         1       1   \n",
       "2            3         1       3   \n",
       "3            4         1       1   \n",
       "4            5         0       3   \n",
       "\n",
       "                                                Name     Sex   Age  SibSp  \\\n",
       "0                            Braund, Mr. Owen Harris    male  22.0      1   \n",
       "1  Cumings, Mrs. John Bradley (Florence Briggs Th...  female  38.0      1   \n",
       "2                             Heikkinen, Miss. Laina  female  26.0      0   \n",
       "3       Futrelle, Mrs. Jacques Heath (Lily May Peel)  female  35.0      1   \n",
       "4                           Allen, Mr. William Henry    male  35.0      0   \n",
       "\n",
       "   Parch            Ticket     Fare Cabin Embarked  \n",
       "0      0         A/5 21171   7.2500   NaN        S  \n",
       "1      0          PC 17599  71.2833   C85        C  \n",
       "2      0  STON/O2. 3101282   7.9250   NaN        S  \n",
       "3      0            113803  53.1000  C123        S  \n",
       "4      0            373450   8.0500   NaN        S  "
      ]
     },
     "execution_count": 3,
     "metadata": {},
     "output_type": "execute_result"
    }
   ],
   "source": [
    "from pandas import *\n",
    "from matplotlib import *\n",
    "from numpy import *\n",
    "from scipy import *\n",
    "import re \n",
    "\n",
    "url = 'https://raw.githubusercontent.com/RavinderSBawa/DS/master/titanic_train-1.csv'\n",
    "Titanic=read_csv(url)\n",
    "\n",
    "Titanic.head()"
   ]
  },
  {
   "cell_type": "markdown",
   "metadata": {
    "colab_type": "text",
    "id": "-nOlosiU6x5U"
   },
   "source": [
    "**Question2 - Display the all the columns present in the Titanic data-set and print the columns name.** "
   ]
  },
  {
   "cell_type": "code",
   "execution_count": 2,
   "metadata": {
    "colab": {
     "base_uri": "https://localhost:8080/",
     "height": 51
    },
    "colab_type": "code",
    "id": "TKfwCKaXGfiz",
    "outputId": "82f1d7d8-06c9-4247-9193-a3929ad87c92"
   },
   "outputs": [
    {
     "name": "stdout",
     "output_type": "stream",
     "text": [
      "Columns present in Titanic data-set are  ['PassengerId' 'Survived' 'Pclass' 'Name' 'Sex' 'Age' 'SibSp' 'Parch'\n",
      " 'Ticket' 'Fare' 'Cabin' 'Embarked']\n"
     ]
    }
   ],
   "source": [
    "print('Columns present in Titanic data-set are ',Titanic.keys().values)"
   ]
  },
  {
   "cell_type": "markdown",
   "metadata": {
    "colab_type": "text",
    "id": "ExNlzyVu7Dr2"
   },
   "source": [
    "**Question3 - Display which columns have NAn values.**"
   ]
  },
  {
   "cell_type": "code",
   "execution_count": 3,
   "metadata": {
    "colab": {
     "base_uri": "https://localhost:8080/",
     "height": 34
    },
    "colab_type": "code",
    "id": "lOcWfM9g2fVR",
    "outputId": "8416e899-a2a5-418d-e5cb-c9d8b8f16d71"
   },
   "outputs": [
    {
     "name": "stdout",
     "output_type": "stream",
     "text": [
      "Columns have Nan values are  ['Age' 'Cabin' 'Embarked']\n"
     ]
    }
   ],
   "source": [
    "Titinac_NaN=Titanic.columns[Titanic.isnull().any()]\n",
    "print('Columns have Nan values are ',Titinac_NaN.values)"
   ]
  },
  {
   "cell_type": "code",
   "execution_count": 4,
   "metadata": {},
   "outputs": [],
   "source": [
    "Titanic_S = Titanic[\"Survived\"]"
   ]
  },
  {
   "cell_type": "code",
   "execution_count": 21,
   "metadata": {},
   "outputs": [],
   "source": [
    "Sr_sum = int(sum(Titanic_S))"
   ]
  },
  {
   "cell_type": "code",
   "execution_count": 22,
   "metadata": {},
   "outputs": [
    {
     "data": {
      "text/plain": [
       "int"
      ]
     },
     "execution_count": 22,
     "metadata": {},
     "output_type": "execute_result"
    }
   ],
   "source": [
    "Sr_sum\n",
    "type(Sr_sum)"
   ]
  },
  {
   "cell_type": "code",
   "execution_count": 20,
   "metadata": {},
   "outputs": [
    {
     "data": {
      "text/plain": [
       "int"
      ]
     },
     "execution_count": 20,
     "metadata": {},
     "output_type": "execute_result"
    }
   ],
   "source": [
    "Sur_Co = len(Titanic_S)\n",
    "Sur_Co\n",
    "type(Sur_Co)"
   ]
  },
  {
   "cell_type": "code",
   "execution_count": 25,
   "metadata": {},
   "outputs": [
    {
     "name": "stdout",
     "output_type": "stream",
     "text": [
      "Total No. of Survived people  342\n",
      "Total No. of Dead people  549\n"
     ]
    }
   ],
   "source": [
    "Dead = Sur_Co - Sr_sum\n",
    "print('Total No. of Survived people are ',Sr_sum)\n",
    "print('Total No. of Dead people are', Dead)"
   ]
  },
  {
   "cell_type": "code",
   "execution_count": 65,
   "metadata": {},
   "outputs": [
    {
     "ename": "TypeError",
     "evalue": "'Series' object is not callable",
     "output_type": "error",
     "traceback": [
      "\u001b[1;31m---------------------------------------------------------------------------\u001b[0m",
      "\u001b[1;31mTypeError\u001b[0m                                 Traceback (most recent call last)",
      "\u001b[1;32m<ipython-input-65-fa156a9418a0>\u001b[0m in \u001b[0;36m<module>\u001b[1;34m\u001b[0m\n\u001b[0;32m      1\u001b[0m \u001b[0mlen\u001b[0m\u001b[1;33m(\u001b[0m\u001b[0mTitanic\u001b[0m\u001b[1;33m[\u001b[0m\u001b[1;34m\"Sex\"\u001b[0m\u001b[1;33m]\u001b[0m\u001b[1;33m)\u001b[0m\u001b[1;33m\u001b[0m\u001b[1;33m\u001b[0m\u001b[0m\n\u001b[0;32m      2\u001b[0m \u001b[0mi\u001b[0m\u001b[1;33m=\u001b[0m\u001b[1;36m0\u001b[0m\u001b[1;33m\u001b[0m\u001b[1;33m\u001b[0m\u001b[0m\n\u001b[1;32m----> 3\u001b[1;33m \u001b[1;32mfor\u001b[0m \u001b[0mmale\u001b[0m \u001b[1;32min\u001b[0m \u001b[0mTitanic\u001b[0m\u001b[1;33m.\u001b[0m\u001b[0mSex\u001b[0m\u001b[1;33m(\u001b[0m\u001b[0mi\u001b[0m\u001b[1;33m)\u001b[0m \u001b[1;33m:\u001b[0m\u001b[1;33m\u001b[0m\u001b[1;33m\u001b[0m\u001b[0m\n\u001b[0m\u001b[0;32m      4\u001b[0m     \u001b[0mi\u001b[0m\u001b[1;33m=\u001b[0m\u001b[0mi\u001b[0m\u001b[1;33m+\u001b[0m\u001b[1;36m1\u001b[0m\u001b[1;33m\u001b[0m\u001b[1;33m\u001b[0m\u001b[0m\n\u001b[0;32m      5\u001b[0m \u001b[1;33m\u001b[0m\u001b[0m\n",
      "\u001b[1;31mTypeError\u001b[0m: 'Series' object is not callable"
     ]
    }
   ],
   "source": [
    "len(Titanic[\"Sex\"])\n",
    "i=0\n",
    "b=0\n",
    "for male in Titanic.Sex(i) :\n",
    "    i=i+1\n",
    "    \n",
    "else:\n",
    "    b=b+1 \n",
    "\n",
    "    "
   ]
  },
  {
   "cell_type": "code",
   "execution_count": 69,
   "metadata": {},
   "outputs": [
    {
     "data": {
      "text/plain": [
       "0"
      ]
     },
     "execution_count": 69,
     "metadata": {},
     "output_type": "execute_result"
    }
   ],
   "source": [
    "Titanic.Sex.index[0]"
   ]
  },
  {
   "cell_type": "code",
   "execution_count": 38,
   "metadata": {},
   "outputs": [
    {
     "name": "stdout",
     "output_type": "stream",
     "text": [
      "1\n"
     ]
    }
   ],
   "source": [
    "i=0\n",
    "if male in Titanic :\n",
    "    i=i+1\n",
    "    print(i)\n",
    "    "
   ]
  },
  {
   "cell_type": "code",
   "execution_count": 25,
   "metadata": {},
   "outputs": [],
   "source": [
    "T_GG = Titanic[\"Sex\"]"
   ]
  },
  {
   "cell_type": "code",
   "execution_count": 51,
   "metadata": {},
   "outputs": [
    {
     "ename": "SyntaxError",
     "evalue": "keyword can't be an expression (<ipython-input-51-eecfb5f04ca9>, line 1)",
     "output_type": "error",
     "traceback": [
      "\u001b[1;36m  File \u001b[1;32m\"<ipython-input-51-eecfb5f04ca9>\"\u001b[1;36m, line \u001b[1;32m1\u001b[0m\n\u001b[1;33m    T_G=Titanic.groupby('Sex').filter(Titanic(\"Sex\")=\"male\")\u001b[0m\n\u001b[1;37m                                     ^\u001b[0m\n\u001b[1;31mSyntaxError\u001b[0m\u001b[1;31m:\u001b[0m keyword can't be an expression\n"
     ]
    }
   ],
   "source": [
    "T_G=Titanic.groupby('Sex').filter(Titanic(\"Sex\")=\"male\")"
   ]
  },
  {
   "cell_type": "code",
   "execution_count": 52,
   "metadata": {},
   "outputs": [
    {
     "data": {
      "text/html": [
       "<div>\n",
       "<style scoped>\n",
       "    .dataframe tbody tr th:only-of-type {\n",
       "        vertical-align: middle;\n",
       "    }\n",
       "\n",
       "    .dataframe tbody tr th {\n",
       "        vertical-align: top;\n",
       "    }\n",
       "\n",
       "    .dataframe thead tr th {\n",
       "        text-align: left;\n",
       "    }\n",
       "\n",
       "    .dataframe thead tr:last-of-type th {\n",
       "        text-align: right;\n",
       "    }\n",
       "</style>\n",
       "<table border=\"1\" class=\"dataframe\">\n",
       "  <thead>\n",
       "    <tr>\n",
       "      <th></th>\n",
       "      <th>PassengerId</th>\n",
       "      <th>Survived</th>\n",
       "      <th>Pclass</th>\n",
       "      <th>Name</th>\n",
       "      <th>Age</th>\n",
       "      <th>SibSp</th>\n",
       "      <th>Parch</th>\n",
       "      <th>Ticket</th>\n",
       "      <th>Fare</th>\n",
       "    </tr>\n",
       "    <tr>\n",
       "      <th></th>\n",
       "      <th>sum</th>\n",
       "      <th>sum</th>\n",
       "      <th>sum</th>\n",
       "      <th>sum</th>\n",
       "      <th>sum</th>\n",
       "      <th>sum</th>\n",
       "      <th>sum</th>\n",
       "      <th>sum</th>\n",
       "      <th>sum</th>\n",
       "    </tr>\n",
       "    <tr>\n",
       "      <th>Sex</th>\n",
       "      <th></th>\n",
       "      <th></th>\n",
       "      <th></th>\n",
       "      <th></th>\n",
       "      <th></th>\n",
       "      <th></th>\n",
       "      <th></th>\n",
       "      <th></th>\n",
       "      <th></th>\n",
       "    </tr>\n",
       "  </thead>\n",
       "  <tbody>\n",
       "    <tr>\n",
       "      <th>female</th>\n",
       "      <td>135343</td>\n",
       "      <td>233</td>\n",
       "      <td>678</td>\n",
       "      <td>Cumings, Mrs. John Bradley (Florence Briggs Th...</td>\n",
       "      <td>7286.00</td>\n",
       "      <td>218</td>\n",
       "      <td>204</td>\n",
       "      <td>PC 17599STON/O2. 3101282113803347742237736PP 9...</td>\n",
       "      <td>13966.6628</td>\n",
       "    </tr>\n",
       "    <tr>\n",
       "      <th>male</th>\n",
       "      <td>262043</td>\n",
       "      <td>109</td>\n",
       "      <td>1379</td>\n",
       "      <td>Braund, Mr. Owen HarrisAllen, Mr. William Henr...</td>\n",
       "      <td>13919.17</td>\n",
       "      <td>248</td>\n",
       "      <td>136</td>\n",
       "      <td>A/5 2117137345033087717463349909A/5. 215134708...</td>\n",
       "      <td>14727.2865</td>\n",
       "    </tr>\n",
       "  </tbody>\n",
       "</table>\n",
       "</div>"
      ],
      "text/plain": [
       "       PassengerId Survived Pclass  \\\n",
       "               sum      sum    sum   \n",
       "Sex                                  \n",
       "female      135343      233    678   \n",
       "male        262043      109   1379   \n",
       "\n",
       "                                                     Name       Age SibSp  \\\n",
       "                                                      sum       sum   sum   \n",
       "Sex                                                                         \n",
       "female  Cumings, Mrs. John Bradley (Florence Briggs Th...   7286.00   218   \n",
       "male    Braund, Mr. Owen HarrisAllen, Mr. William Henr...  13919.17   248   \n",
       "\n",
       "       Parch                                             Ticket        Fare  \n",
       "         sum                                                sum         sum  \n",
       "Sex                                                                          \n",
       "female   204  PC 17599STON/O2. 3101282113803347742237736PP 9...  13966.6628  \n",
       "male     136  A/5 2117137345033087717463349909A/5. 215134708...  14727.2865  "
      ]
     },
     "execution_count": 52,
     "metadata": {},
     "output_type": "execute_result"
    }
   ],
   "source": [
    "T_G.agg([sum])"
   ]
  },
  {
   "cell_type": "code",
   "execution_count": 36,
   "metadata": {
    "collapsed": true
   },
   "outputs": [
    {
     "ename": "TypeError",
     "evalue": "(\"unsupported operand type(s) for +: 'int' and 'str'\", 'occurred at index Cabin')",
     "output_type": "error",
     "traceback": [
      "\u001b[1;31m---------------------------------------------------------------------------\u001b[0m",
      "\u001b[1;31mTypeError\u001b[0m                                 Traceback (most recent call last)",
      "\u001b[1;32m<ipython-input-36-b4a845652119>\u001b[0m in \u001b[0;36m<module>\u001b[1;34m\u001b[0m\n\u001b[1;32m----> 1\u001b[1;33m \u001b[0mT_G\u001b[0m\u001b[1;33m.\u001b[0m\u001b[0mget_group\u001b[0m\u001b[1;33m(\u001b[0m\u001b[1;34m'male'\u001b[0m\u001b[1;33m)\u001b[0m\u001b[1;33m.\u001b[0m\u001b[0magg\u001b[0m\u001b[1;33m(\u001b[0m\u001b[0msum\u001b[0m\u001b[1;33m)\u001b[0m\u001b[1;33m\u001b[0m\u001b[1;33m\u001b[0m\u001b[0m\n\u001b[0m",
      "\u001b[1;32m~\\AppData\\Local\\Continuum\\anaconda3\\lib\\site-packages\\pandas\\core\\frame.py\u001b[0m in \u001b[0;36maggregate\u001b[1;34m(self, func, axis, *args, **kwargs)\u001b[0m\n\u001b[0;32m   5830\u001b[0m                 \u001b[1;32mpass\u001b[0m\u001b[1;33m\u001b[0m\u001b[1;33m\u001b[0m\u001b[0m\n\u001b[0;32m   5831\u001b[0m         \u001b[1;32mif\u001b[0m \u001b[0mresult\u001b[0m \u001b[1;32mis\u001b[0m \u001b[1;32mNone\u001b[0m\u001b[1;33m:\u001b[0m\u001b[1;33m\u001b[0m\u001b[1;33m\u001b[0m\u001b[0m\n\u001b[1;32m-> 5832\u001b[1;33m             \u001b[1;32mreturn\u001b[0m \u001b[0mself\u001b[0m\u001b[1;33m.\u001b[0m\u001b[0mapply\u001b[0m\u001b[1;33m(\u001b[0m\u001b[0mfunc\u001b[0m\u001b[1;33m,\u001b[0m \u001b[0maxis\u001b[0m\u001b[1;33m=\u001b[0m\u001b[0maxis\u001b[0m\u001b[1;33m,\u001b[0m \u001b[0margs\u001b[0m\u001b[1;33m=\u001b[0m\u001b[0margs\u001b[0m\u001b[1;33m,\u001b[0m \u001b[1;33m**\u001b[0m\u001b[0mkwargs\u001b[0m\u001b[1;33m)\u001b[0m\u001b[1;33m\u001b[0m\u001b[1;33m\u001b[0m\u001b[0m\n\u001b[0m\u001b[0;32m   5833\u001b[0m         \u001b[1;32mreturn\u001b[0m \u001b[0mresult\u001b[0m\u001b[1;33m\u001b[0m\u001b[1;33m\u001b[0m\u001b[0m\n\u001b[0;32m   5834\u001b[0m \u001b[1;33m\u001b[0m\u001b[0m\n",
      "\u001b[1;32m~\\AppData\\Local\\Continuum\\anaconda3\\lib\\site-packages\\pandas\\core\\frame.py\u001b[0m in \u001b[0;36mapply\u001b[1;34m(self, func, axis, broadcast, raw, reduce, result_type, args, **kwds)\u001b[0m\n\u001b[0;32m   6012\u001b[0m                          \u001b[0margs\u001b[0m\u001b[1;33m=\u001b[0m\u001b[0margs\u001b[0m\u001b[1;33m,\u001b[0m\u001b[1;33m\u001b[0m\u001b[1;33m\u001b[0m\u001b[0m\n\u001b[0;32m   6013\u001b[0m                          kwds=kwds)\n\u001b[1;32m-> 6014\u001b[1;33m         \u001b[1;32mreturn\u001b[0m \u001b[0mop\u001b[0m\u001b[1;33m.\u001b[0m\u001b[0mget_result\u001b[0m\u001b[1;33m(\u001b[0m\u001b[1;33m)\u001b[0m\u001b[1;33m\u001b[0m\u001b[1;33m\u001b[0m\u001b[0m\n\u001b[0m\u001b[0;32m   6015\u001b[0m \u001b[1;33m\u001b[0m\u001b[0m\n\u001b[0;32m   6016\u001b[0m     \u001b[1;32mdef\u001b[0m \u001b[0mapplymap\u001b[0m\u001b[1;33m(\u001b[0m\u001b[0mself\u001b[0m\u001b[1;33m,\u001b[0m \u001b[0mfunc\u001b[0m\u001b[1;33m)\u001b[0m\u001b[1;33m:\u001b[0m\u001b[1;33m\u001b[0m\u001b[1;33m\u001b[0m\u001b[0m\n",
      "\u001b[1;32m~\\AppData\\Local\\Continuum\\anaconda3\\lib\\site-packages\\pandas\\core\\apply.py\u001b[0m in \u001b[0;36mget_result\u001b[1;34m(self)\u001b[0m\n\u001b[0;32m    316\u001b[0m                                       *self.args, **self.kwds)\n\u001b[0;32m    317\u001b[0m \u001b[1;33m\u001b[0m\u001b[0m\n\u001b[1;32m--> 318\u001b[1;33m         \u001b[1;32mreturn\u001b[0m \u001b[0msuper\u001b[0m\u001b[1;33m(\u001b[0m\u001b[0mFrameRowApply\u001b[0m\u001b[1;33m,\u001b[0m \u001b[0mself\u001b[0m\u001b[1;33m)\u001b[0m\u001b[1;33m.\u001b[0m\u001b[0mget_result\u001b[0m\u001b[1;33m(\u001b[0m\u001b[1;33m)\u001b[0m\u001b[1;33m\u001b[0m\u001b[1;33m\u001b[0m\u001b[0m\n\u001b[0m\u001b[0;32m    319\u001b[0m \u001b[1;33m\u001b[0m\u001b[0m\n\u001b[0;32m    320\u001b[0m     \u001b[1;32mdef\u001b[0m \u001b[0mapply_broadcast\u001b[0m\u001b[1;33m(\u001b[0m\u001b[0mself\u001b[0m\u001b[1;33m)\u001b[0m\u001b[1;33m:\u001b[0m\u001b[1;33m\u001b[0m\u001b[1;33m\u001b[0m\u001b[0m\n",
      "\u001b[1;32m~\\AppData\\Local\\Continuum\\anaconda3\\lib\\site-packages\\pandas\\core\\apply.py\u001b[0m in \u001b[0;36mget_result\u001b[1;34m(self)\u001b[0m\n\u001b[0;32m    140\u001b[0m             \u001b[1;32mreturn\u001b[0m \u001b[0mself\u001b[0m\u001b[1;33m.\u001b[0m\u001b[0mapply_raw\u001b[0m\u001b[1;33m(\u001b[0m\u001b[1;33m)\u001b[0m\u001b[1;33m\u001b[0m\u001b[1;33m\u001b[0m\u001b[0m\n\u001b[0;32m    141\u001b[0m \u001b[1;33m\u001b[0m\u001b[0m\n\u001b[1;32m--> 142\u001b[1;33m         \u001b[1;32mreturn\u001b[0m \u001b[0mself\u001b[0m\u001b[1;33m.\u001b[0m\u001b[0mapply_standard\u001b[0m\u001b[1;33m(\u001b[0m\u001b[1;33m)\u001b[0m\u001b[1;33m\u001b[0m\u001b[1;33m\u001b[0m\u001b[0m\n\u001b[0m\u001b[0;32m    143\u001b[0m \u001b[1;33m\u001b[0m\u001b[0m\n\u001b[0;32m    144\u001b[0m     \u001b[1;32mdef\u001b[0m \u001b[0mapply_empty_result\u001b[0m\u001b[1;33m(\u001b[0m\u001b[0mself\u001b[0m\u001b[1;33m)\u001b[0m\u001b[1;33m:\u001b[0m\u001b[1;33m\u001b[0m\u001b[1;33m\u001b[0m\u001b[0m\n",
      "\u001b[1;32m~\\AppData\\Local\\Continuum\\anaconda3\\lib\\site-packages\\pandas\\core\\apply.py\u001b[0m in \u001b[0;36mapply_standard\u001b[1;34m(self)\u001b[0m\n\u001b[0;32m    246\u001b[0m \u001b[1;33m\u001b[0m\u001b[0m\n\u001b[0;32m    247\u001b[0m         \u001b[1;31m# compute the result using the series generator\u001b[0m\u001b[1;33m\u001b[0m\u001b[1;33m\u001b[0m\u001b[1;33m\u001b[0m\u001b[0m\n\u001b[1;32m--> 248\u001b[1;33m         \u001b[0mself\u001b[0m\u001b[1;33m.\u001b[0m\u001b[0mapply_series_generator\u001b[0m\u001b[1;33m(\u001b[0m\u001b[1;33m)\u001b[0m\u001b[1;33m\u001b[0m\u001b[1;33m\u001b[0m\u001b[0m\n\u001b[0m\u001b[0;32m    249\u001b[0m \u001b[1;33m\u001b[0m\u001b[0m\n\u001b[0;32m    250\u001b[0m         \u001b[1;31m# wrap results\u001b[0m\u001b[1;33m\u001b[0m\u001b[1;33m\u001b[0m\u001b[1;33m\u001b[0m\u001b[0m\n",
      "\u001b[1;32m~\\AppData\\Local\\Continuum\\anaconda3\\lib\\site-packages\\pandas\\core\\apply.py\u001b[0m in \u001b[0;36mapply_series_generator\u001b[1;34m(self)\u001b[0m\n\u001b[0;32m    275\u001b[0m             \u001b[1;32mtry\u001b[0m\u001b[1;33m:\u001b[0m\u001b[1;33m\u001b[0m\u001b[1;33m\u001b[0m\u001b[0m\n\u001b[0;32m    276\u001b[0m                 \u001b[1;32mfor\u001b[0m \u001b[0mi\u001b[0m\u001b[1;33m,\u001b[0m \u001b[0mv\u001b[0m \u001b[1;32min\u001b[0m \u001b[0menumerate\u001b[0m\u001b[1;33m(\u001b[0m\u001b[0mseries_gen\u001b[0m\u001b[1;33m)\u001b[0m\u001b[1;33m:\u001b[0m\u001b[1;33m\u001b[0m\u001b[1;33m\u001b[0m\u001b[0m\n\u001b[1;32m--> 277\u001b[1;33m                     \u001b[0mresults\u001b[0m\u001b[1;33m[\u001b[0m\u001b[0mi\u001b[0m\u001b[1;33m]\u001b[0m \u001b[1;33m=\u001b[0m \u001b[0mself\u001b[0m\u001b[1;33m.\u001b[0m\u001b[0mf\u001b[0m\u001b[1;33m(\u001b[0m\u001b[0mv\u001b[0m\u001b[1;33m)\u001b[0m\u001b[1;33m\u001b[0m\u001b[1;33m\u001b[0m\u001b[0m\n\u001b[0m\u001b[0;32m    278\u001b[0m                     \u001b[0mkeys\u001b[0m\u001b[1;33m.\u001b[0m\u001b[0mappend\u001b[0m\u001b[1;33m(\u001b[0m\u001b[0mv\u001b[0m\u001b[1;33m.\u001b[0m\u001b[0mname\u001b[0m\u001b[1;33m)\u001b[0m\u001b[1;33m\u001b[0m\u001b[1;33m\u001b[0m\u001b[0m\n\u001b[0;32m    279\u001b[0m             \u001b[1;32mexcept\u001b[0m \u001b[0mException\u001b[0m \u001b[1;32mas\u001b[0m \u001b[0me\u001b[0m\u001b[1;33m:\u001b[0m\u001b[1;33m\u001b[0m\u001b[1;33m\u001b[0m\u001b[0m\n",
      "\u001b[1;32m~\\AppData\\Local\\Continuum\\anaconda3\\lib\\site-packages\\numpy\\core\\fromnumeric.py\u001b[0m in \u001b[0;36msum\u001b[1;34m(a, axis, dtype, out, keepdims, initial)\u001b[0m\n\u001b[0;32m   1928\u001b[0m \u001b[1;33m\u001b[0m\u001b[0m\n\u001b[0;32m   1929\u001b[0m     return _wrapreduction(a, np.add, 'sum', axis, dtype, out, keepdims=keepdims,\n\u001b[1;32m-> 1930\u001b[1;33m                           initial=initial)\n\u001b[0m\u001b[0;32m   1931\u001b[0m \u001b[1;33m\u001b[0m\u001b[0m\n\u001b[0;32m   1932\u001b[0m \u001b[1;33m\u001b[0m\u001b[0m\n",
      "\u001b[1;32m~\\AppData\\Local\\Continuum\\anaconda3\\lib\\site-packages\\numpy\\core\\fromnumeric.py\u001b[0m in \u001b[0;36m_wrapreduction\u001b[1;34m(obj, ufunc, method, axis, dtype, out, **kwargs)\u001b[0m\n\u001b[0;32m     79\u001b[0m                 \u001b[1;32mreturn\u001b[0m \u001b[0mreduction\u001b[0m\u001b[1;33m(\u001b[0m\u001b[0maxis\u001b[0m\u001b[1;33m=\u001b[0m\u001b[0maxis\u001b[0m\u001b[1;33m,\u001b[0m \u001b[0mdtype\u001b[0m\u001b[1;33m=\u001b[0m\u001b[0mdtype\u001b[0m\u001b[1;33m,\u001b[0m \u001b[0mout\u001b[0m\u001b[1;33m=\u001b[0m\u001b[0mout\u001b[0m\u001b[1;33m,\u001b[0m \u001b[1;33m**\u001b[0m\u001b[0mpasskwargs\u001b[0m\u001b[1;33m)\u001b[0m\u001b[1;33m\u001b[0m\u001b[1;33m\u001b[0m\u001b[0m\n\u001b[0;32m     80\u001b[0m             \u001b[1;32melse\u001b[0m\u001b[1;33m:\u001b[0m\u001b[1;33m\u001b[0m\u001b[1;33m\u001b[0m\u001b[0m\n\u001b[1;32m---> 81\u001b[1;33m                 \u001b[1;32mreturn\u001b[0m \u001b[0mreduction\u001b[0m\u001b[1;33m(\u001b[0m\u001b[0maxis\u001b[0m\u001b[1;33m=\u001b[0m\u001b[0maxis\u001b[0m\u001b[1;33m,\u001b[0m \u001b[0mout\u001b[0m\u001b[1;33m=\u001b[0m\u001b[0mout\u001b[0m\u001b[1;33m,\u001b[0m \u001b[1;33m**\u001b[0m\u001b[0mpasskwargs\u001b[0m\u001b[1;33m)\u001b[0m\u001b[1;33m\u001b[0m\u001b[1;33m\u001b[0m\u001b[0m\n\u001b[0m\u001b[0;32m     82\u001b[0m \u001b[1;33m\u001b[0m\u001b[0m\n\u001b[0;32m     83\u001b[0m     \u001b[1;32mreturn\u001b[0m \u001b[0mufunc\u001b[0m\u001b[1;33m.\u001b[0m\u001b[0mreduce\u001b[0m\u001b[1;33m(\u001b[0m\u001b[0mobj\u001b[0m\u001b[1;33m,\u001b[0m \u001b[0maxis\u001b[0m\u001b[1;33m,\u001b[0m \u001b[0mdtype\u001b[0m\u001b[1;33m,\u001b[0m \u001b[0mout\u001b[0m\u001b[1;33m,\u001b[0m \u001b[1;33m**\u001b[0m\u001b[0mpasskwargs\u001b[0m\u001b[1;33m)\u001b[0m\u001b[1;33m\u001b[0m\u001b[1;33m\u001b[0m\u001b[0m\n",
      "\u001b[1;32m~\\AppData\\Local\\Continuum\\anaconda3\\lib\\site-packages\\pandas\\core\\generic.py\u001b[0m in \u001b[0;36mstat_func\u001b[1;34m(self, axis, skipna, level, numeric_only, min_count, **kwargs)\u001b[0m\n\u001b[0;32m   9591\u001b[0m                                       skipna=skipna, min_count=min_count)\n\u001b[0;32m   9592\u001b[0m         return self._reduce(f, name, axis=axis, skipna=skipna,\n\u001b[1;32m-> 9593\u001b[1;33m                             numeric_only=numeric_only, min_count=min_count)\n\u001b[0m\u001b[0;32m   9594\u001b[0m \u001b[1;33m\u001b[0m\u001b[0m\n\u001b[0;32m   9595\u001b[0m     \u001b[1;32mreturn\u001b[0m \u001b[0mset_function_name\u001b[0m\u001b[1;33m(\u001b[0m\u001b[0mstat_func\u001b[0m\u001b[1;33m,\u001b[0m \u001b[0mname\u001b[0m\u001b[1;33m,\u001b[0m \u001b[0mcls\u001b[0m\u001b[1;33m)\u001b[0m\u001b[1;33m\u001b[0m\u001b[1;33m\u001b[0m\u001b[0m\n",
      "\u001b[1;32m~\\AppData\\Local\\Continuum\\anaconda3\\lib\\site-packages\\pandas\\core\\series.py\u001b[0m in \u001b[0;36m_reduce\u001b[1;34m(self, op, name, axis, skipna, numeric_only, filter_type, **kwds)\u001b[0m\n\u001b[0;32m   3219\u001b[0m                                           'numeric_only.'.format(name))\n\u001b[0;32m   3220\u001b[0m             \u001b[1;32mwith\u001b[0m \u001b[0mnp\u001b[0m\u001b[1;33m.\u001b[0m\u001b[0merrstate\u001b[0m\u001b[1;33m(\u001b[0m\u001b[0mall\u001b[0m\u001b[1;33m=\u001b[0m\u001b[1;34m'ignore'\u001b[0m\u001b[1;33m)\u001b[0m\u001b[1;33m:\u001b[0m\u001b[1;33m\u001b[0m\u001b[1;33m\u001b[0m\u001b[0m\n\u001b[1;32m-> 3221\u001b[1;33m                 \u001b[1;32mreturn\u001b[0m \u001b[0mop\u001b[0m\u001b[1;33m(\u001b[0m\u001b[0mdelegate\u001b[0m\u001b[1;33m,\u001b[0m \u001b[0mskipna\u001b[0m\u001b[1;33m=\u001b[0m\u001b[0mskipna\u001b[0m\u001b[1;33m,\u001b[0m \u001b[1;33m**\u001b[0m\u001b[0mkwds\u001b[0m\u001b[1;33m)\u001b[0m\u001b[1;33m\u001b[0m\u001b[1;33m\u001b[0m\u001b[0m\n\u001b[0m\u001b[0;32m   3222\u001b[0m \u001b[1;33m\u001b[0m\u001b[0m\n\u001b[0;32m   3223\u001b[0m         return delegate._reduce(op=op, name=name, axis=axis, skipna=skipna,\n",
      "\u001b[1;32m~\\AppData\\Local\\Continuum\\anaconda3\\lib\\site-packages\\pandas\\core\\nanops.py\u001b[0m in \u001b[0;36m_f\u001b[1;34m(*args, **kwargs)\u001b[0m\n\u001b[0;32m     75\u001b[0m             \u001b[1;32mtry\u001b[0m\u001b[1;33m:\u001b[0m\u001b[1;33m\u001b[0m\u001b[1;33m\u001b[0m\u001b[0m\n\u001b[0;32m     76\u001b[0m                 \u001b[1;32mwith\u001b[0m \u001b[0mnp\u001b[0m\u001b[1;33m.\u001b[0m\u001b[0merrstate\u001b[0m\u001b[1;33m(\u001b[0m\u001b[0minvalid\u001b[0m\u001b[1;33m=\u001b[0m\u001b[1;34m'ignore'\u001b[0m\u001b[1;33m)\u001b[0m\u001b[1;33m:\u001b[0m\u001b[1;33m\u001b[0m\u001b[1;33m\u001b[0m\u001b[0m\n\u001b[1;32m---> 77\u001b[1;33m                     \u001b[1;32mreturn\u001b[0m \u001b[0mf\u001b[0m\u001b[1;33m(\u001b[0m\u001b[1;33m*\u001b[0m\u001b[0margs\u001b[0m\u001b[1;33m,\u001b[0m \u001b[1;33m**\u001b[0m\u001b[0mkwargs\u001b[0m\u001b[1;33m)\u001b[0m\u001b[1;33m\u001b[0m\u001b[1;33m\u001b[0m\u001b[0m\n\u001b[0m\u001b[0;32m     78\u001b[0m             \u001b[1;32mexcept\u001b[0m \u001b[0mValueError\u001b[0m \u001b[1;32mas\u001b[0m \u001b[0me\u001b[0m\u001b[1;33m:\u001b[0m\u001b[1;33m\u001b[0m\u001b[1;33m\u001b[0m\u001b[0m\n\u001b[0;32m     79\u001b[0m                 \u001b[1;31m# we want to transform an object array\u001b[0m\u001b[1;33m\u001b[0m\u001b[1;33m\u001b[0m\u001b[1;33m\u001b[0m\u001b[0m\n",
      "\u001b[1;32m~\\AppData\\Local\\Continuum\\anaconda3\\lib\\site-packages\\pandas\\core\\nanops.py\u001b[0m in \u001b[0;36mnansum\u001b[1;34m(values, axis, skipna, min_count)\u001b[0m\n\u001b[0;32m    334\u001b[0m     \u001b[1;32melif\u001b[0m \u001b[0mis_timedelta64_dtype\u001b[0m\u001b[1;33m(\u001b[0m\u001b[0mdtype\u001b[0m\u001b[1;33m)\u001b[0m\u001b[1;33m:\u001b[0m\u001b[1;33m\u001b[0m\u001b[1;33m\u001b[0m\u001b[0m\n\u001b[0;32m    335\u001b[0m         \u001b[0mdtype_sum\u001b[0m \u001b[1;33m=\u001b[0m \u001b[0mnp\u001b[0m\u001b[1;33m.\u001b[0m\u001b[0mfloat64\u001b[0m\u001b[1;33m\u001b[0m\u001b[1;33m\u001b[0m\u001b[0m\n\u001b[1;32m--> 336\u001b[1;33m     \u001b[0mthe_sum\u001b[0m \u001b[1;33m=\u001b[0m \u001b[0mvalues\u001b[0m\u001b[1;33m.\u001b[0m\u001b[0msum\u001b[0m\u001b[1;33m(\u001b[0m\u001b[0maxis\u001b[0m\u001b[1;33m,\u001b[0m \u001b[0mdtype\u001b[0m\u001b[1;33m=\u001b[0m\u001b[0mdtype_sum\u001b[0m\u001b[1;33m)\u001b[0m\u001b[1;33m\u001b[0m\u001b[1;33m\u001b[0m\u001b[0m\n\u001b[0m\u001b[0;32m    337\u001b[0m     \u001b[0mthe_sum\u001b[0m \u001b[1;33m=\u001b[0m \u001b[0m_maybe_null_out\u001b[0m\u001b[1;33m(\u001b[0m\u001b[0mthe_sum\u001b[0m\u001b[1;33m,\u001b[0m \u001b[0maxis\u001b[0m\u001b[1;33m,\u001b[0m \u001b[0mmask\u001b[0m\u001b[1;33m,\u001b[0m \u001b[0mmin_count\u001b[0m\u001b[1;33m=\u001b[0m\u001b[0mmin_count\u001b[0m\u001b[1;33m)\u001b[0m\u001b[1;33m\u001b[0m\u001b[1;33m\u001b[0m\u001b[0m\n\u001b[0;32m    338\u001b[0m \u001b[1;33m\u001b[0m\u001b[0m\n",
      "\u001b[1;32m~\\AppData\\Local\\Continuum\\anaconda3\\lib\\site-packages\\numpy\\core\\_methods.py\u001b[0m in \u001b[0;36m_sum\u001b[1;34m(a, axis, dtype, out, keepdims, initial)\u001b[0m\n\u001b[0;32m     34\u001b[0m def _sum(a, axis=None, dtype=None, out=None, keepdims=False,\n\u001b[0;32m     35\u001b[0m          initial=_NoValue):\n\u001b[1;32m---> 36\u001b[1;33m     \u001b[1;32mreturn\u001b[0m \u001b[0mumr_sum\u001b[0m\u001b[1;33m(\u001b[0m\u001b[0ma\u001b[0m\u001b[1;33m,\u001b[0m \u001b[0maxis\u001b[0m\u001b[1;33m,\u001b[0m \u001b[0mdtype\u001b[0m\u001b[1;33m,\u001b[0m \u001b[0mout\u001b[0m\u001b[1;33m,\u001b[0m \u001b[0mkeepdims\u001b[0m\u001b[1;33m,\u001b[0m \u001b[0minitial\u001b[0m\u001b[1;33m)\u001b[0m\u001b[1;33m\u001b[0m\u001b[1;33m\u001b[0m\u001b[0m\n\u001b[0m\u001b[0;32m     37\u001b[0m \u001b[1;33m\u001b[0m\u001b[0m\n\u001b[0;32m     38\u001b[0m def _prod(a, axis=None, dtype=None, out=None, keepdims=False,\n",
      "\u001b[1;31mTypeError\u001b[0m: (\"unsupported operand type(s) for +: 'int' and 'str'\", 'occurred at index Cabin')"
     ]
    }
   ],
   "source": [
    "T_G.get_group('male')"
   ]
  },
  {
   "cell_type": "code",
   "execution_count": 30,
   "metadata": {},
   "outputs": [
    {
     "name": "stdout",
     "output_type": "stream",
     "text": [
      "female\n",
      "     PassengerId  Survived  Pclass  \\\n",
      "1              2         1       1   \n",
      "2              3         1       3   \n",
      "3              4         1       1   \n",
      "8              9         1       3   \n",
      "9             10         1       2   \n",
      "10            11         1       3   \n",
      "11            12         1       1   \n",
      "14            15         0       3   \n",
      "15            16         1       2   \n",
      "18            19         0       3   \n",
      "19            20         1       3   \n",
      "22            23         1       3   \n",
      "24            25         0       3   \n",
      "25            26         1       3   \n",
      "28            29         1       3   \n",
      "31            32         1       1   \n",
      "32            33         1       3   \n",
      "38            39         0       3   \n",
      "39            40         1       3   \n",
      "40            41         0       3   \n",
      "41            42         0       2   \n",
      "43            44         1       2   \n",
      "44            45         1       3   \n",
      "47            48         1       3   \n",
      "49            50         0       3   \n",
      "52            53         1       1   \n",
      "53            54         1       2   \n",
      "56            57         1       2   \n",
      "58            59         1       2   \n",
      "61            62         1       1   \n",
      "..           ...       ...     ...   \n",
      "807          808         0       3   \n",
      "809          810         1       1   \n",
      "813          814         0       3   \n",
      "816          817         0       3   \n",
      "820          821         1       1   \n",
      "823          824         1       3   \n",
      "829          830         1       1   \n",
      "830          831         1       3   \n",
      "835          836         1       1   \n",
      "842          843         1       1   \n",
      "849          850         1       1   \n",
      "852          853         0       3   \n",
      "853          854         1       1   \n",
      "854          855         0       2   \n",
      "855          856         1       3   \n",
      "856          857         1       1   \n",
      "858          859         1       3   \n",
      "862          863         1       1   \n",
      "863          864         0       3   \n",
      "865          866         1       2   \n",
      "866          867         1       2   \n",
      "871          872         1       1   \n",
      "874          875         1       2   \n",
      "875          876         1       3   \n",
      "879          880         1       1   \n",
      "880          881         1       2   \n",
      "882          883         0       3   \n",
      "885          886         0       3   \n",
      "887          888         1       1   \n",
      "888          889         0       3   \n",
      "\n",
      "                                                  Name     Sex   Age  SibSp  \\\n",
      "1    Cumings, Mrs. John Bradley (Florence Briggs Th...  female  38.0      1   \n",
      "2                               Heikkinen, Miss. Laina  female  26.0      0   \n",
      "3         Futrelle, Mrs. Jacques Heath (Lily May Peel)  female  35.0      1   \n",
      "8    Johnson, Mrs. Oscar W (Elisabeth Vilhelmina Berg)  female  27.0      0   \n",
      "9                  Nasser, Mrs. Nicholas (Adele Achem)  female  14.0      1   \n",
      "10                     Sandstrom, Miss. Marguerite Rut  female   4.0      1   \n",
      "11                            Bonnell, Miss. Elizabeth  female  58.0      0   \n",
      "14                Vestrom, Miss. Hulda Amanda Adolfina  female  14.0      0   \n",
      "15                    Hewlett, Mrs. (Mary D Kingcome)   female  55.0      0   \n",
      "18   Vander Planke, Mrs. Julius (Emelia Maria Vande...  female  31.0      1   \n",
      "19                             Masselmani, Mrs. Fatima  female   NaN      0   \n",
      "22                         McGowan, Miss. Anna \"Annie\"  female  15.0      0   \n",
      "24                       Palsson, Miss. Torborg Danira  female   8.0      3   \n",
      "25   Asplund, Mrs. Carl Oscar (Selma Augusta Emilia...  female  38.0      1   \n",
      "28                       O'Dwyer, Miss. Ellen \"Nellie\"  female   NaN      0   \n",
      "31      Spencer, Mrs. William Augustus (Marie Eugenie)  female   NaN      1   \n",
      "32                            Glynn, Miss. Mary Agatha  female   NaN      0   \n",
      "38                  Vander Planke, Miss. Augusta Maria  female  18.0      2   \n",
      "39                         Nicola-Yarred, Miss. Jamila  female  14.0      1   \n",
      "40      Ahlin, Mrs. Johan (Johanna Persdotter Larsson)  female  40.0      1   \n",
      "41   Turpin, Mrs. William John Robert (Dorothy Ann ...  female  27.0      1   \n",
      "43            Laroche, Miss. Simonne Marie Anne Andree  female   3.0      1   \n",
      "44                       Devaney, Miss. Margaret Delia  female  19.0      0   \n",
      "47                           O'Driscoll, Miss. Bridget  female   NaN      0   \n",
      "49       Arnold-Franchi, Mrs. Josef (Josefine Franchi)  female  18.0      1   \n",
      "52            Harper, Mrs. Henry Sleeper (Myna Haxtun)  female  49.0      1   \n",
      "53   Faunthorpe, Mrs. Lizzie (Elizabeth Anne Wilkin...  female  29.0      1   \n",
      "56                                   Rugg, Miss. Emily  female  21.0      0   \n",
      "58                        West, Miss. Constance Mirium  female   5.0      1   \n",
      "61                                 Icard, Miss. Amelie  female  38.0      0   \n",
      "..                                                 ...     ...   ...    ...   \n",
      "807                    Pettersson, Miss. Ellen Natalia  female  18.0      0   \n",
      "809     Chambers, Mrs. Norman Campbell (Bertha Griggs)  female  33.0      1   \n",
      "813                 Andersson, Miss. Ebba Iris Alfrida  female   6.0      4   \n",
      "816                       Heininen, Miss. Wendla Maria  female  23.0      0   \n",
      "820  Hays, Mrs. Charles Melville (Clara Jennings Gr...  female  52.0      1   \n",
      "823                                 Moor, Mrs. (Beila)  female  27.0      0   \n",
      "829          Stone, Mrs. George Nelson (Martha Evelyn)  female  62.0      0   \n",
      "830            Yasbeck, Mrs. Antoni (Selini Alexander)  female  15.0      1   \n",
      "835                        Compton, Miss. Sara Rebecca  female  39.0      1   \n",
      "842                            Serepeca, Miss. Augusta  female  30.0      0   \n",
      "849       Goldenberg, Mrs. Samuel L (Edwiga Grabowska)  female   NaN      1   \n",
      "852                            Boulos, Miss. Nourelain  female   9.0      1   \n",
      "853                          Lines, Miss. Mary Conover  female  16.0      0   \n",
      "854      Carter, Mrs. Ernest Courtenay (Lilian Hughes)  female  44.0      1   \n",
      "855                         Aks, Mrs. Sam (Leah Rosen)  female  18.0      0   \n",
      "856         Wick, Mrs. George Dennick (Mary Hitchcock)  female  45.0      1   \n",
      "858              Baclini, Mrs. Solomon (Latifa Qurban)  female  24.0      0   \n",
      "862  Swift, Mrs. Frederick Joel (Margaret Welles Ba...  female  48.0      0   \n",
      "863                  Sage, Miss. Dorothy Edith \"Dolly\"  female   NaN      8   \n",
      "865                           Bystrom, Mrs. (Karolina)  female  42.0      0   \n",
      "866                       Duran y More, Miss. Asuncion  female  27.0      1   \n",
      "871   Beckwith, Mrs. Richard Leonard (Sallie Monypeny)  female  47.0      1   \n",
      "874              Abelson, Mrs. Samuel (Hannah Wizosky)  female  28.0      1   \n",
      "875                   Najib, Miss. Adele Kiamie \"Jane\"  female  15.0      0   \n",
      "879      Potter, Mrs. Thomas Jr (Lily Alexenia Wilson)  female  56.0      0   \n",
      "880       Shelley, Mrs. William (Imanita Parrish Hall)  female  25.0      0   \n",
      "882                       Dahlberg, Miss. Gerda Ulrika  female  22.0      0   \n",
      "885               Rice, Mrs. William (Margaret Norton)  female  39.0      0   \n",
      "887                       Graham, Miss. Margaret Edith  female  19.0      0   \n",
      "888           Johnston, Miss. Catherine Helen \"Carrie\"  female   NaN      1   \n",
      "\n",
      "     Parch            Ticket      Fare Cabin Embarked  \n",
      "1        0          PC 17599   71.2833   C85        C  \n",
      "2        0  STON/O2. 3101282    7.9250   NaN        S  \n",
      "3        0            113803   53.1000  C123        S  \n",
      "8        2            347742   11.1333   NaN        S  \n",
      "9        0            237736   30.0708   NaN        C  \n",
      "10       1           PP 9549   16.7000    G6        S  \n",
      "11       0            113783   26.5500  C103        S  \n",
      "14       0            350406    7.8542   NaN        S  \n",
      "15       0            248706   16.0000   NaN        S  \n",
      "18       0            345763   18.0000   NaN        S  \n",
      "19       0              2649    7.2250   NaN        C  \n",
      "22       0            330923    8.0292   NaN        Q  \n",
      "24       1            349909   21.0750   NaN        S  \n",
      "25       5            347077   31.3875   NaN        S  \n",
      "28       0            330959    7.8792   NaN        Q  \n",
      "31       0          PC 17569  146.5208   B78        C  \n",
      "32       0            335677    7.7500   NaN        Q  \n",
      "38       0            345764   18.0000   NaN        S  \n",
      "39       0              2651   11.2417   NaN        C  \n",
      "40       0              7546    9.4750   NaN        S  \n",
      "41       0             11668   21.0000   NaN        S  \n",
      "43       2     SC/Paris 2123   41.5792   NaN        C  \n",
      "44       0            330958    7.8792   NaN        Q  \n",
      "47       0             14311    7.7500   NaN        Q  \n",
      "49       0            349237   17.8000   NaN        S  \n",
      "52       0          PC 17572   76.7292   D33        C  \n",
      "53       0              2926   26.0000   NaN        S  \n",
      "56       0        C.A. 31026   10.5000   NaN        S  \n",
      "58       2        C.A. 34651   27.7500   NaN        S  \n",
      "61       0            113572   80.0000   B28      NaN  \n",
      "..     ...               ...       ...   ...      ...  \n",
      "807      0            347087    7.7750   NaN        S  \n",
      "809      0            113806   53.1000    E8        S  \n",
      "813      2            347082   31.2750   NaN        S  \n",
      "816      0  STON/O2. 3101290    7.9250   NaN        S  \n",
      "820      1             12749   93.5000   B69        S  \n",
      "823      1            392096   12.4750  E121        S  \n",
      "829      0            113572   80.0000   B28      NaN  \n",
      "830      0              2659   14.4542   NaN        C  \n",
      "835      1          PC 17756   83.1583   E49        C  \n",
      "842      0            113798   31.0000   NaN        C  \n",
      "849      0             17453   89.1042   C92        C  \n",
      "852      1              2678   15.2458   NaN        C  \n",
      "853      1          PC 17592   39.4000   D28        S  \n",
      "854      0            244252   26.0000   NaN        S  \n",
      "855      1            392091    9.3500   NaN        S  \n",
      "856      1             36928  164.8667   NaN        S  \n",
      "858      3              2666   19.2583   NaN        C  \n",
      "862      0             17466   25.9292   D17        S  \n",
      "863      2          CA. 2343   69.5500   NaN        S  \n",
      "865      0            236852   13.0000   NaN        S  \n",
      "866      0     SC/PARIS 2149   13.8583   NaN        C  \n",
      "871      1             11751   52.5542   D35        S  \n",
      "874      0         P/PP 3381   24.0000   NaN        C  \n",
      "875      0              2667    7.2250   NaN        C  \n",
      "879      1             11767   83.1583   C50        C  \n",
      "880      1            230433   26.0000   NaN        S  \n",
      "882      0              7552   10.5167   NaN        S  \n",
      "885      5            382652   29.1250   NaN        Q  \n",
      "887      0            112053   30.0000   B42        S  \n",
      "888      2        W./C. 6607   23.4500   NaN        S  \n",
      "\n",
      "[314 rows x 12 columns]\n",
      "male\n",
      "     PassengerId  Survived  Pclass                                     Name  \\\n",
      "0              1         0       3                  Braund, Mr. Owen Harris   \n",
      "4              5         0       3                 Allen, Mr. William Henry   \n",
      "5              6         0       3                         Moran, Mr. James   \n",
      "6              7         0       1                  McCarthy, Mr. Timothy J   \n",
      "7              8         0       3           Palsson, Master. Gosta Leonard   \n",
      "12            13         0       3           Saundercock, Mr. William Henry   \n",
      "13            14         0       3              Andersson, Mr. Anders Johan   \n",
      "16            17         0       3                     Rice, Master. Eugene   \n",
      "17            18         1       2             Williams, Mr. Charles Eugene   \n",
      "20            21         0       2                     Fynney, Mr. Joseph J   \n",
      "21            22         1       2                    Beesley, Mr. Lawrence   \n",
      "23            24         1       1             Sloper, Mr. William Thompson   \n",
      "26            27         0       3                  Emir, Mr. Farred Chehab   \n",
      "27            28         0       1           Fortune, Mr. Charles Alexander   \n",
      "29            30         0       3                      Todoroff, Mr. Lalio   \n",
      "30            31         0       1                 Uruchurtu, Don. Manuel E   \n",
      "33            34         0       2                    Wheadon, Mr. Edward H   \n",
      "34            35         0       1                  Meyer, Mr. Edgar Joseph   \n",
      "35            36         0       1           Holverson, Mr. Alexander Oskar   \n",
      "36            37         1       3                         Mamee, Mr. Hanna   \n",
      "37            38         0       3                 Cann, Mr. Ernest Charles   \n",
      "42            43         0       3                      Kraeff, Mr. Theodor   \n",
      "45            46         0       3                 Rogers, Mr. William John   \n",
      "46            47         0       3                        Lennon, Mr. Denis   \n",
      "48            49         0       3                      Samaan, Mr. Youssef   \n",
      "50            51         0       3               Panula, Master. Juha Niilo   \n",
      "51            52         0       3             Nosworthy, Mr. Richard Cater   \n",
      "54            55         0       1           Ostby, Mr. Engelhart Cornelius   \n",
      "55            56         1       1                        Woolner, Mr. Hugh   \n",
      "57            58         0       3                      Novel, Mr. Mansouer   \n",
      "..           ...       ...     ...                                      ...   \n",
      "840          841         0       3              Alhomaki, Mr. Ilmari Rudolf   \n",
      "841          842         0       2                 Mudd, Mr. Thomas Charles   \n",
      "843          844         0       3               Lemberopolous, Mr. Peter L   \n",
      "844          845         0       3                      Culumovic, Mr. Jeso   \n",
      "845          846         0       3                      Abbing, Mr. Anthony   \n",
      "846          847         0       3                 Sage, Mr. Douglas Bullen   \n",
      "847          848         0       3                       Markoff, Mr. Marin   \n",
      "848          849         0       2                        Harper, Rev. John   \n",
      "850          851         0       3  Andersson, Master. Sigvard Harald Elias   \n",
      "851          852         0       3                      Svensson, Mr. Johan   \n",
      "857          858         1       1                   Daly, Mr. Peter Denis    \n",
      "859          860         0       3                         Razi, Mr. Raihed   \n",
      "860          861         0       3                  Hansen, Mr. Claus Peter   \n",
      "861          862         0       2              Giles, Mr. Frederick Edward   \n",
      "864          865         0       2                   Gill, Mr. John William   \n",
      "867          868         0       1     Roebling, Mr. Washington Augustus II   \n",
      "868          869         0       3              van Melkebeke, Mr. Philemon   \n",
      "869          870         1       3          Johnson, Master. Harold Theodor   \n",
      "870          871         0       3                        Balkic, Mr. Cerin   \n",
      "872          873         0       1                 Carlsson, Mr. Frans Olof   \n",
      "873          874         0       3              Vander Cruyssen, Mr. Victor   \n",
      "876          877         0       3            Gustafsson, Mr. Alfred Ossian   \n",
      "877          878         0       3                     Petroff, Mr. Nedelio   \n",
      "878          879         0       3                       Laleff, Mr. Kristo   \n",
      "881          882         0       3                       Markun, Mr. Johann   \n",
      "883          884         0       2            Banfield, Mr. Frederick James   \n",
      "884          885         0       3                   Sutehall, Mr. Henry Jr   \n",
      "886          887         0       2                    Montvila, Rev. Juozas   \n",
      "889          890         1       1                    Behr, Mr. Karl Howell   \n",
      "890          891         0       3                      Dooley, Mr. Patrick   \n",
      "\n",
      "      Sex   Age  SibSp  Parch            Ticket      Fare        Cabin  \\\n",
      "0    male  22.0      1      0         A/5 21171    7.2500          NaN   \n",
      "4    male  35.0      0      0            373450    8.0500          NaN   \n",
      "5    male   NaN      0      0            330877    8.4583          NaN   \n",
      "6    male  54.0      0      0             17463   51.8625          E46   \n",
      "7    male   2.0      3      1            349909   21.0750          NaN   \n",
      "12   male  20.0      0      0         A/5. 2151    8.0500          NaN   \n",
      "13   male  39.0      1      5            347082   31.2750          NaN   \n",
      "16   male   2.0      4      1            382652   29.1250          NaN   \n",
      "17   male   NaN      0      0            244373   13.0000          NaN   \n",
      "20   male  35.0      0      0            239865   26.0000          NaN   \n",
      "21   male  34.0      0      0            248698   13.0000          D56   \n",
      "23   male  28.0      0      0            113788   35.5000           A6   \n",
      "26   male   NaN      0      0              2631    7.2250          NaN   \n",
      "27   male  19.0      3      2             19950  263.0000  C23 C25 C27   \n",
      "29   male   NaN      0      0            349216    7.8958          NaN   \n",
      "30   male  40.0      0      0          PC 17601   27.7208          NaN   \n",
      "33   male  66.0      0      0        C.A. 24579   10.5000          NaN   \n",
      "34   male  28.0      1      0          PC 17604   82.1708          NaN   \n",
      "35   male  42.0      1      0            113789   52.0000          NaN   \n",
      "36   male   NaN      0      0              2677    7.2292          NaN   \n",
      "37   male  21.0      0      0        A./5. 2152    8.0500          NaN   \n",
      "42   male   NaN      0      0            349253    7.8958          NaN   \n",
      "45   male   NaN      0      0   S.C./A.4. 23567    8.0500          NaN   \n",
      "46   male   NaN      1      0            370371   15.5000          NaN   \n",
      "48   male   NaN      2      0              2662   21.6792          NaN   \n",
      "50   male   7.0      4      1           3101295   39.6875          NaN   \n",
      "51   male  21.0      0      0        A/4. 39886    7.8000          NaN   \n",
      "54   male  65.0      0      1            113509   61.9792          B30   \n",
      "55   male   NaN      0      0             19947   35.5000          C52   \n",
      "57   male  28.5      0      0              2697    7.2292          NaN   \n",
      "..    ...   ...    ...    ...               ...       ...          ...   \n",
      "840  male  20.0      0      0  SOTON/O2 3101287    7.9250          NaN   \n",
      "841  male  16.0      0      0       S.O./P.P. 3   10.5000          NaN   \n",
      "843  male  34.5      0      0              2683    6.4375          NaN   \n",
      "844  male  17.0      0      0            315090    8.6625          NaN   \n",
      "845  male  42.0      0      0         C.A. 5547    7.5500          NaN   \n",
      "846  male   NaN      8      2          CA. 2343   69.5500          NaN   \n",
      "847  male  35.0      0      0            349213    7.8958          NaN   \n",
      "848  male  28.0      0      1            248727   33.0000          NaN   \n",
      "850  male   4.0      4      2            347082   31.2750          NaN   \n",
      "851  male  74.0      0      0            347060    7.7750          NaN   \n",
      "857  male  51.0      0      0            113055   26.5500          E17   \n",
      "859  male   NaN      0      0              2629    7.2292          NaN   \n",
      "860  male  41.0      2      0            350026   14.1083          NaN   \n",
      "861  male  21.0      1      0             28134   11.5000          NaN   \n",
      "864  male  24.0      0      0            233866   13.0000          NaN   \n",
      "867  male  31.0      0      0          PC 17590   50.4958          A24   \n",
      "868  male   NaN      0      0            345777    9.5000          NaN   \n",
      "869  male   4.0      1      1            347742   11.1333          NaN   \n",
      "870  male  26.0      0      0            349248    7.8958          NaN   \n",
      "872  male  33.0      0      0               695    5.0000  B51 B53 B55   \n",
      "873  male  47.0      0      0            345765    9.0000          NaN   \n",
      "876  male  20.0      0      0              7534    9.8458          NaN   \n",
      "877  male  19.0      0      0            349212    7.8958          NaN   \n",
      "878  male   NaN      0      0            349217    7.8958          NaN   \n",
      "881  male  33.0      0      0            349257    7.8958          NaN   \n",
      "883  male  28.0      0      0  C.A./SOTON 34068   10.5000          NaN   \n",
      "884  male  25.0      0      0   SOTON/OQ 392076    7.0500          NaN   \n",
      "886  male  27.0      0      0            211536   13.0000          NaN   \n",
      "889  male  26.0      0      0            111369   30.0000         C148   \n",
      "890  male  32.0      0      0            370376    7.7500          NaN   \n",
      "\n",
      "    Embarked  \n",
      "0          S  \n",
      "4          S  \n",
      "5          Q  \n",
      "6          S  \n",
      "7          S  \n",
      "12         S  \n",
      "13         S  \n",
      "16         Q  \n",
      "17         S  \n",
      "20         S  \n",
      "21         S  \n",
      "23         S  \n",
      "26         C  \n",
      "27         S  \n",
      "29         S  \n",
      "30         C  \n",
      "33         S  \n",
      "34         C  \n",
      "35         S  \n",
      "36         C  \n",
      "37         S  \n",
      "42         C  \n",
      "45         S  \n",
      "46         Q  \n",
      "48         C  \n",
      "50         S  \n",
      "51         S  \n",
      "54         C  \n",
      "55         S  \n",
      "57         C  \n",
      "..       ...  \n",
      "840        S  \n",
      "841        S  \n",
      "843        C  \n",
      "844        S  \n",
      "845        S  \n",
      "846        S  \n",
      "847        C  \n",
      "848        S  \n",
      "850        S  \n",
      "851        S  \n",
      "857        S  \n",
      "859        C  \n",
      "860        S  \n",
      "861        S  \n",
      "864        S  \n",
      "867        S  \n",
      "868        S  \n",
      "869        S  \n",
      "870        S  \n",
      "872        S  \n",
      "873        S  \n",
      "876        S  \n",
      "877        S  \n",
      "878        S  \n",
      "881        S  \n",
      "883        S  \n",
      "884        S  \n",
      "886        S  \n",
      "889        C  \n",
      "890        Q  \n",
      "\n",
      "[577 rows x 12 columns]\n"
     ]
    }
   ],
   "source": [
    "for sex,group in T_G:\n",
    "    print (sex)\n",
    "    print (group)\n"
   ]
  },
  {
   "cell_type": "markdown",
   "metadata": {
    "colab_type": "text",
    "id": "yAduXh0MCegD"
   },
   "source": [
    "**End of Assignment.**"
   ]
  }
 ],
 "metadata": {
  "colab": {
   "collapsed_sections": [],
   "name": "Ravinder_Assign_1_2_19th_Mar.ipynb",
   "provenance": [],
   "version": "0.3.2"
  },
  "kernelspec": {
   "display_name": "Python 3",
   "language": "python",
   "name": "python3"
  },
  "language_info": {
   "codemirror_mode": {
    "name": "ipython",
    "version": 3
   },
   "file_extension": ".py",
   "mimetype": "text/x-python",
   "name": "python",
   "nbconvert_exporter": "python",
   "pygments_lexer": "ipython3",
   "version": "3.7.1"
  }
 },
 "nbformat": 4,
 "nbformat_minor": 1
}
