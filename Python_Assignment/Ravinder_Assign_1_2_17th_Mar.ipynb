{
 "cells": [
  {
   "cell_type": "markdown",
   "metadata": {},
   "source": [
    "Assignment 1.2 | Python | Ravinder_Assign_1_2_17th_Mar.ipynb"
   ]
  },
  {
   "cell_type": "code",
   "execution_count": 42,
   "metadata": {},
   "outputs": [
    {
     "name": "stdout",
     "output_type": "stream",
     "text": [
      "[5, 10, 15, 20, 25, 30]\n"
     ]
    }
   ],
   "source": [
    "#Make list of numbers '(5,10,15,20,25,30)' and save it as 'listone'\n",
    "\n",
    "listone=[5,10,15,20,25,30]\n",
    "\n",
    "print(listone)"
   ]
  },
  {
   "cell_type": "code",
   "execution_count": 43,
   "metadata": {},
   "outputs": [
    {
     "name": "stdout",
     "output_type": "stream",
     "text": [
      "Length of the liststone 6\n"
     ]
    }
   ],
   "source": [
    "#Print length of the list \n",
    "\n",
    "Length_of_Listone = len(listone)\n",
    "\n",
    "print(\"Length of the liststone\",Length_of_Listone)"
   ]
  },
  {
   "cell_type": "code",
   "execution_count": 44,
   "metadata": {},
   "outputs": [
    {
     "name": "stdout",
     "output_type": "stream",
     "text": [
      "Maximum No. Of listone is 30\n",
      "Minimun No. Of listone is 5\n"
     ]
    }
   ],
   "source": [
    "#Print Maximum-Minimum number\n",
    "\n",
    "Maximum_Num = max(listone)\n",
    "\n",
    "print(\"Maximum No. Of listone is\",Maximum_Num)\n",
    "\n",
    "Minimum_Num=min(listone)\n",
    "\n",
    "print(\"Minimum No. Of listone is\",Minimum_Num)"
   ]
  },
  {
   "cell_type": "code",
   "execution_count": 45,
   "metadata": {},
   "outputs": [
    {
     "name": "stdout",
     "output_type": "stream",
     "text": [
      "SUM of listone  105\n"
     ]
    }
   ],
   "source": [
    "#Print the SUM of ‘listone’\n",
    "\n",
    "Sum_Of_Listone = sum(listone)\n",
    "\n",
    "print(\"SUM of listone \",Sum_Of_Listone)"
   ]
  },
  {
   "cell_type": "code",
   "execution_count": 41,
   "metadata": {
    "scrolled": true
   },
   "outputs": [
    {
     "name": "stdout",
     "output_type": "stream",
     "text": [
      "[5, 10, 20, 25, 30]\n"
     ]
    }
   ],
   "source": [
    "#Remove number 15 from ‘listone’\n",
    "\n",
    "listone.remove(15)\n",
    "\n",
    "print(listone)"
   ]
  },
  {
   "cell_type": "markdown",
   "metadata": {},
   "source": [
    "End of Assignment 1.2 | Python | Ravinder_Assign_1_2_17th_Mar.ipynb"
   ]
  }
 ],
 "metadata": {
  "kernelspec": {
   "display_name": "Python 3",
   "language": "python",
   "name": "python3"
  },
  "language_info": {
   "codemirror_mode": {
    "name": "ipython",
    "version": 3
   },
   "file_extension": ".py",
   "mimetype": "text/x-python",
   "name": "python",
   "nbconvert_exporter": "python",
   "pygments_lexer": "ipython3",
   "version": "3.7.1"
  }
 },
 "nbformat": 4,
 "nbformat_minor": 2
}
